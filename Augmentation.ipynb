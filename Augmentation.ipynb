{
 "cells": [
  {
   "cell_type": "code",
   "execution_count": 1,
   "metadata": {},
   "outputs": [
    {
     "name": "stdout",
     "output_type": "stream",
     "text": [
      "Collecting Augmentor\n",
      "  Downloading Augmentor-0.2.12-py2.py3-none-any.whl.metadata (1.3 kB)\n",
      "Requirement already satisfied: Pillow>=5.2.0 in c:\\users\\rishi pande\\appdata\\local\\programs\\python\\python312\\lib\\site-packages (from Augmentor) (10.3.0)\n",
      "Requirement already satisfied: tqdm>=4.9.0 in c:\\users\\rishi pande\\appdata\\local\\programs\\python\\python312\\lib\\site-packages (from Augmentor) (4.66.4)\n",
      "Requirement already satisfied: numpy>=1.11.0 in c:\\users\\rishi pande\\appdata\\local\\programs\\python\\python312\\lib\\site-packages (from Augmentor) (1.26.4)\n",
      "Requirement already satisfied: colorama in c:\\users\\rishi pande\\appdata\\local\\programs\\python\\python312\\lib\\site-packages (from tqdm>=4.9.0->Augmentor) (0.4.6)\n",
      "Downloading Augmentor-0.2.12-py2.py3-none-any.whl (38 kB)\n",
      "Installing collected packages: Augmentor\n",
      "Successfully installed Augmentor-0.2.12\n",
      "Note: you may need to restart the kernel to use updated packages.\n"
     ]
    },
    {
     "name": "stderr",
     "output_type": "stream",
     "text": [
      "\n",
      "[notice] A new release of pip is available: 24.0 -> 24.1.1\n",
      "[notice] To update, run: python.exe -m pip install --upgrade pip\n"
     ]
    }
   ],
   "source": [
    "pip install Augmentor"
   ]
  },
  {
   "cell_type": "code",
   "execution_count": 23,
   "metadata": {},
   "outputs": [
    {
     "name": "stdout",
     "output_type": "stream",
     "text": [
      "Initialised with 50 image(s) found.\n",
      "Output directory set to C:\\Users\\RISHI PANDE\\Documents\\Prediction\\train_Nails\\Bluish Nail."
     ]
    },
    {
     "name": "stderr",
     "output_type": "stream",
     "text": [
      "Processing <PIL.Image.Image image mode=RGBA size=100x133 at 0x17700CB6DB0>: 100%|██████████| 1000/1000 [00:05<00:00, 194.48 Samples/s]              \n"
     ]
    },
    {
     "name": "stdout",
     "output_type": "stream",
     "text": [
      "Initialised with 103 image(s) found.\n",
      "Output directory set to C:\\Users\\RISHI PANDE\\Documents\\Prediction\\train_Nails\\Healthy."
     ]
    },
    {
     "name": "stderr",
     "output_type": "stream",
     "text": [
      "Processing <PIL.Image.Image image mode=RGB size=587x550 at 0x17700CB5DF0>: 100%|██████████| 1000/1000 [00:23<00:00, 43.14 Samples/s]  \n"
     ]
    },
    {
     "name": "stdout",
     "output_type": "stream",
     "text": [
      "Initialised with 122 image(s) found.\n",
      "Output directory set to C:\\Users\\RISHI PANDE\\Documents\\Prediction\\train_Nails\\Splinter Hemmorrage."
     ]
    },
    {
     "name": "stderr",
     "output_type": "stream",
     "text": [
      "Processing <PIL.Image.Image image mode=RGBA size=312x308 at 0x177002DF650>: 100%|██████████| 1000/1000 [00:06<00:00, 149.95 Samples/s]                \n"
     ]
    },
    {
     "name": "stdout",
     "output_type": "stream",
     "text": [
      "Initialised with 19 image(s) found.\n",
      "Output directory set to C:\\Users\\RISHI PANDE\\Documents\\Prediction\\train_Nails\\White Nail."
     ]
    },
    {
     "name": "stderr",
     "output_type": "stream",
     "text": [
      "Processing <PIL.Image.Image image mode=RGBA size=119x134 at 0x17700CF2360>: 100%|██████████| 1000/1000 [00:06<00:00, 151.74 Samples/s]               "
     ]
    },
    {
     "name": "stdout",
     "output_type": "stream",
     "text": [
      "Error: The source directory C:\\Users\\RISHI PANDE\\Documents\\Prediction\\Train\\Yellow Nail does not exist.\n",
      "Data augmentation completed.\n"
     ]
    },
    {
     "name": "stderr",
     "output_type": "stream",
     "text": [
      "\n"
     ]
    }
   ],
   "source": [
    "import Augmentor\n",
    "import os\n",
    "\n",
    "# Define the path to the original dataset and the path to the new augmented dataset\n",
    "original_dataset_path = r\"C:\\Users\\RISHI PANDE\\Documents\\Prediction\\Train\"\n",
    "augmented_dataset_path = r\"C:\\Users\\RISHI PANDE\\Documents\\Prediction\\train_Nails\"\n",
    "\n",
    "# Define the subfolders\n",
    "subfolders = [\"Bluish Nail\", \"Healthy\", \"Splinter Hemmorrage\", \"White Nail\", \"Yellow Nail\"]\n",
    "\n",
    "# Create the augmented dataset folder if it doesn't exist\n",
    "if not os.path.exists(augmented_dataset_path):\n",
    "    os.makedirs(augmented_dataset_path)\n",
    "\n",
    "# Loop through each subfolder and augment the images\n",
    "for subfolder in subfolders:\n",
    "    input_path = os.path.join(original_dataset_path, subfolder)\n",
    "    output_path = os.path.join(augmented_dataset_path, subfolder)\n",
    "    \n",
    "    # Check if the input path exists\n",
    "    if not os.path.exists(input_path):\n",
    "        print(f\"Error: The source directory {input_path} does not exist.\")\n",
    "        continue\n",
    "    \n",
    "    # Create the output subfolder if it doesn't exist\n",
    "    if not os.path.exists(output_path):\n",
    "        os.makedirs(output_path)\n",
    "    \n",
    "    # Initialize the Augmentor pipeline for the current subfolder\n",
    "    p = Augmentor.Pipeline(source_directory=input_path, output_directory=output_path)\n",
    "    \n",
    "    # Define augmentation operations\n",
    "    p.rotate(probability=0.7, max_left_rotation=25, max_right_rotation=25)\n",
    "    p.zoom_random(probability=0.5, percentage_area=0.8)\n",
    "    p.flip_left_right(probability=0.5)\n",
    "    p.flip_top_bottom(probability=0.5)\n",
    "    p.random_contrast(probability=0.5, min_factor=0.7, max_factor=1.3)\n",
    "    p.random_brightness(probability=0.5, min_factor=0.7, max_factor=1.3)\n",
    "    p.random_color(probability=0.5, min_factor=0.7, max_factor=1.3)\n",
    "    p.random_distortion(probability=0.5, grid_width=4, grid_height=4, magnitude=8)\n",
    "    \n",
    "    # Specify the number of samples you want to generate\n",
    "    p.sample(1000)  # Change this number as needed\n",
    "\n",
    "print(\"Data augmentation completed.\")\n"
   ]
  },
  {
   "cell_type": "code",
   "execution_count": 24,
   "metadata": {},
   "outputs": [
    {
     "name": "stdout",
     "output_type": "stream",
     "text": [
      "Initialised with 27 image(s) found.\n",
      "Output directory set to C:\\Users\\RISHI PANDE\\Documents\\Prediction\\train_Nails\\Yellow Nail\\yellow nails."
     ]
    },
    {
     "name": "stderr",
     "output_type": "stream",
     "text": [
      "Processing <PIL.Image.Image image mode=RGBA size=98x124 at 0x17700CB4C20>: 100%|██████████| 1000/1000 [00:06<00:00, 158.81 Samples/s]                "
     ]
    },
    {
     "name": "stdout",
     "output_type": "stream",
     "text": [
      "Data augmentation completed.\n"
     ]
    },
    {
     "name": "stderr",
     "output_type": "stream",
     "text": [
      "\n"
     ]
    }
   ],
   "source": [
    "import Augmentor\n",
    "import os\n",
    "\n",
    "# Define the path to the original dataset and the path to the new augmented dataset\n",
    "original_dataset_path = r\"C:\\Users\\RISHI PANDE\\Documents\\Prediction\\Train\"\n",
    "augmented_dataset_path = r\"C:\\Users\\RISHI PANDE\\Documents\\Prediction\\train_Nails\\Yellow Nail\"\n",
    "\n",
    "# Define the subfolders\n",
    "subfolders = [\"yellow nails\"]\n",
    "\n",
    "# Create the augmented dataset folder if it doesn't exist\n",
    "if not os.path.exists(augmented_dataset_path):\n",
    "    os.makedirs(augmented_dataset_path)\n",
    "\n",
    "# Loop through each subfolder and augment the images\n",
    "for subfolder in subfolders:\n",
    "    input_path = os.path.join(original_dataset_path, subfolder)\n",
    "    output_path = os.path.join(augmented_dataset_path, subfolder)\n",
    "    \n",
    "    # Check if the input path exists\n",
    "    if not os.path.exists(input_path):\n",
    "        print(f\"Error: The source directory {input_path} does not exist.\")\n",
    "        continue\n",
    "    \n",
    "    # Create the output subfolder if it doesn't exist\n",
    "    if not os.path.exists(output_path):\n",
    "        os.makedirs(output_path)\n",
    "    \n",
    "    # Initialize the Augmentor pipeline for the current subfolder\n",
    "    p = Augmentor.Pipeline(source_directory=input_path, output_directory=output_path)\n",
    "    \n",
    "    # Define augmentation operations\n",
    "    p.rotate(probability=0.7, max_left_rotation=25, max_right_rotation=25)\n",
    "    p.zoom_random(probability=0.5, percentage_area=0.8)\n",
    "    p.flip_left_right(probability=0.5)\n",
    "    p.flip_top_bottom(probability=0.5)\n",
    "    p.random_contrast(probability=0.5, min_factor=0.7, max_factor=1.3)\n",
    "    p.random_brightness(probability=0.5, min_factor=0.7, max_factor=1.3)\n",
    "    p.random_color(probability=0.5, min_factor=0.7, max_factor=1.3)\n",
    "    p.random_distortion(probability=0.5, grid_width=4, grid_height=4, magnitude=8)\n",
    "    \n",
    "    # Specify the number of samples you want to generate\n",
    "    p.sample(1000)  # Change this number as needed\n",
    "\n",
    "print(\"Data augmentation completed.\")"
   ]
  },
  {
   "cell_type": "code",
   "execution_count": 27,
   "metadata": {},
   "outputs": [
    {
     "name": "stdout",
     "output_type": "stream",
     "text": [
      "Folder: Bluish Nail, Image count: 199\n",
      "Folder: Healthy, Image count: 432\n",
      "Folder: Splinter Hemmorrage, Image count: 684\n",
      "Folder: White Nail, Image count: 865\n",
      "Folder: Yellow Nail, Image count: 640\n"
     ]
    }
   ],
   "source": [
    "import os\n",
    "\n",
    "# Define the path to the augmented dataset\n",
    "augmented_dataset_path = r\"C:\\Users\\RISHI PANDE\\Documents\\Prediction\\train_Nails\"\n",
    "\n",
    "# Define the subfolders\n",
    "subfolders = [\"Bluish Nail\", \"Healthy\", \"Splinter Hemmorrage\", \"White Nail\", \"Yellow Nail\"]\n",
    "\n",
    "# Function to count the number of images in a directory and its subdirectories\n",
    "def count_images(directory):\n",
    "    image_count = 0\n",
    "    for root, _, files in os.walk(directory):\n",
    "        image_count += len([file for file in files if file.lower().endswith(('jpeg', 'png', 'jpg', 'bmp', 'tiff'))])\n",
    "    return image_count\n",
    "\n",
    "# Loop through each subfolder and count the images\n",
    "image_counts = {}\n",
    "for subfolder in subfolders:\n",
    "    folder_path = os.path.join(augmented_dataset_path, subfolder)\n",
    "    if os.path.exists(folder_path):\n",
    "        image_counts[subfolder] = count_images(folder_path)\n",
    "    else:\n",
    "        image_counts[subfolder] = 0\n",
    "\n",
    "# Print the image counts\n",
    "for subfolder, count in image_counts.items():\n",
    "    print(f\"Folder: {subfolder}, Image count: {count}\")\n",
    "\n"
   ]
  },
  {
   "cell_type": "code",
   "execution_count": 30,
   "metadata": {},
   "outputs": [],
   "source": [
    "IMAGE_SIZE = [224,224]\n",
    "\n",
    "Train_Path = r'C:\\Users\\RISHI PANDE\\Documents\\Prediction\\train_Nails'\n",
    "Test_Path = r'C:\\Users\\RISHI PANDE\\Documents\\Prediction\\Test'"
   ]
  },
  {
   "cell_type": "code",
   "execution_count": null,
   "metadata": {},
   "outputs": [],
   "source": []
  }
 ],
 "metadata": {
  "kernelspec": {
   "display_name": "Python 3",
   "language": "python",
   "name": "python3"
  },
  "language_info": {
   "codemirror_mode": {
    "name": "ipython",
    "version": 3
   },
   "file_extension": ".py",
   "mimetype": "text/x-python",
   "name": "python",
   "nbconvert_exporter": "python",
   "pygments_lexer": "ipython3",
   "version": "3.12.3"
  }
 },
 "nbformat": 4,
 "nbformat_minor": 2
}
