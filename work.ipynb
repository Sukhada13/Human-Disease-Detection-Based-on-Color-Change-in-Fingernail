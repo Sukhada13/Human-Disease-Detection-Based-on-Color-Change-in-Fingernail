{
 "cells": [
  {
   "cell_type": "code",
   "execution_count": 1,
   "metadata": {},
   "outputs": [],
   "source": [
    "import os\n",
    "import cv2\n",
    "import numpy as np\n",
    "import pandas as pd\n",
    "import matplotlib.pyplot as plt\n",
    "from sklearn.model_selection import train_test_split\n",
    "from sklearn.metrics import accuracy_score, confusion_matrix\n",
    "from tensorflow.keras.preprocessing.image import ImageDataGenerator\n",
    "from tensorflow.keras.applications import VGG16\n",
    "from tensorflow.keras.models import Model\n",
    "from tensorflow.keras.layers import Dense, Flatten, GlobalAveragePooling2D\n",
    "from tensorflow.keras.optimizers import Adam"
   ]
  },
  {
   "cell_type": "code",
   "execution_count": 2,
   "metadata": {},
   "outputs": [],
   "source": [
    "# Step 1: Define paths\n",
    "train_path = r\"C:\\Users\\RISHI PANDE\\Documents\\Prediction\\Train\"\n",
    "test_path = r\"C:\\Users\\RISHI PANDE\\Documents\\Prediction\\Test\""
   ]
  },
  {
   "cell_type": "code",
   "execution_count": 3,
   "metadata": {},
   "outputs": [],
   "source": [
    "# Step 2: Data Preprocessing\n",
    "def preprocess_image(image_path):\n",
    "    image = cv2.imread(image_path)\n",
    "    image = cv2.resize(image, (248, 248))\n",
    "    hsv_image = cv2.cvtColor(image, cv2.COLOR_BGR2HSV)\n",
    "    return image, hsv_image"
   ]
  },
  {
   "cell_type": "code",
   "execution_count": 4,
   "metadata": {},
   "outputs": [],
   "source": [
    "def extract_color_features(image):\n",
    "    avg_red = np.mean(image[:, :, 2])\n",
    "    avg_green = np.mean(image[:, :, 1])\n",
    "    avg_blue = np.mean(image[:, :, 0])\n",
    "    mean_rgb = (avg_red + avg_green + avg_blue) / 3\n",
    "    return avg_red, avg_green, avg_blue, mean_rgb"
   ]
  },
  {
   "cell_type": "code",
   "execution_count": 5,
   "metadata": {},
   "outputs": [],
   "source": [
    "def load_dataset(folder_path):\n",
    "    images = []\n",
    "    labels = []\n",
    "    for category in os.listdir(folder_path):\n",
    "        category_path = os.path.join(folder_path, category)\n",
    "        for image_name in os.listdir(category_path):\n",
    "            image_path = os.path.join(category_path, image_name)\n",
    "            image, hsv_image = preprocess_image(image_path)\n",
    "            avg_red, avg_green, avg_blue, mean_rgb = extract_color_features(image)\n",
    "            hsv_mean = np.mean(hsv_image)\n",
    "            images.append([image, avg_red, avg_green, avg_blue, mean_rgb, hsv_mean, hsv_image, category])\n",
    "            labels.append(category)\n",
    "    return images, labels"
   ]
  },
  {
   "cell_type": "code",
   "execution_count": 6,
   "metadata": {},
   "outputs": [],
   "source": [
    "\n",
    "train_images, train_labels = load_dataset(train_path)\n",
    "test_images, test_labels = load_dataset(test_path)"
   ]
  },
  {
   "cell_type": "code",
   "execution_count": 7,
   "metadata": {},
   "outputs": [],
   "source": [
    "# Convert to DataFrame\n",
    "columns = ['Image', 'Avg Red Pixel', 'Avg Green Pixel', 'Avg Blue Pixel', 'Mean RGB Value', 'Mean HSV Value', 'HSV Image', 'Label']\n",
    "train_df = pd.DataFrame(train_images, columns=columns)\n",
    "test_df = pd.DataFrame(test_images, columns=columns)"
   ]
  },
  {
   "cell_type": "code",
   "execution_count": 9,
   "metadata": {},
   "outputs": [],
   "source": [
    "# Extract only image data for augmentation\n",
    "train_image_data = np.array([item[0] for item in train_images])"
   ]
  },
  {
   "cell_type": "code",
   "execution_count": 10,
   "metadata": {},
   "outputs": [],
   "source": [
    "# Step 3: Data Augmentation\n",
    "datagen = ImageDataGenerator(rotation_range=20, width_shift_range=0.2, height_shift_range=0.2, horizontal_flip=True)\n",
    "datagen.fit(train_image_data)"
   ]
  },
  {
   "cell_type": "code",
   "execution_count": 11,
   "metadata": {},
   "outputs": [],
   "source": [
    "# Step 4: Build the CNN Model with Transfer Learning\n",
    "base_model = VGG16(weights='imagenet', include_top=False, input_shape=(248, 248, 3))\n",
    "x = base_model.output\n",
    "x = GlobalAveragePooling2D()(x)\n",
    "x = Dense(1024, activation='relu')(x)\n",
    "predictions = Dense(len(train_df['Label'].unique()), activation='softmax')(x)\n",
    "\n",
    "model = Model(inputs=base_model.input, outputs=predictions)\n",
    "for layer in base_model.layers:\n",
    "    layer.trainable = False\n",
    "\n",
    "model.compile(optimizer=Adam(), loss='categorical_crossentropy', metrics=['accuracy'])\n"
   ]
  },
  {
   "cell_type": "code",
   "execution_count": 12,
   "metadata": {},
   "outputs": [],
   "source": [
    "# Prepare labels for training\n",
    "from sklearn.preprocessing import LabelEncoder\n",
    "from tensorflow.keras.utils import to_categorical\n",
    "\n",
    "label_encoder = LabelEncoder()\n",
    "train_labels_encoded = label_encoder.fit_transform(train_labels)\n",
    "train_labels_categorical = to_categorical(train_labels_encoded)\n",
    "\n",
    "test_labels_encoded = label_encoder.transform(test_labels)\n",
    "test_labels_categorical = to_categorical(test_labels_encoded)"
   ]
  },
  {
   "cell_type": "code",
   "execution_count": 13,
   "metadata": {},
   "outputs": [
    {
     "name": "stdout",
     "output_type": "stream",
     "text": [
      "Epoch 1/25\n"
     ]
    },
    {
     "name": "stderr",
     "output_type": "stream",
     "text": [
      "c:\\Users\\RISHI PANDE\\AppData\\Local\\Programs\\Python\\Python312\\Lib\\site-packages\\keras\\src\\trainers\\data_adapters\\py_dataset_adapter.py:121: UserWarning: Your `PyDataset` class should call `super().__init__(**kwargs)` in its constructor. `**kwargs` can include `workers`, `use_multiprocessing`, `max_queue_size`. Do not pass these arguments to `fit()`, as they will be ignored.\n",
      "  self._warn_if_super_not_called()\n"
     ]
    },
    {
     "name": "stdout",
     "output_type": "stream",
     "text": [
      "\u001b[1m11/11\u001b[0m \u001b[32m━━━━━━━━━━━━━━━━━━━━\u001b[0m\u001b[37m\u001b[0m \u001b[1m38s\u001b[0m 3s/step - accuracy: 0.5238 - loss: 2.6327 - val_accuracy: 0.6800 - val_loss: 1.8273\n",
      "Epoch 2/25\n",
      "\u001b[1m11/11\u001b[0m \u001b[32m━━━━━━━━━━━━━━━━━━━━\u001b[0m\u001b[37m\u001b[0m \u001b[1m34s\u001b[0m 3s/step - accuracy: 0.7580 - loss: 0.8999 - val_accuracy: 0.8400 - val_loss: 0.3228\n",
      "Epoch 3/25\n",
      "\u001b[1m11/11\u001b[0m \u001b[32m━━━━━━━━━━━━━━━━━━━━\u001b[0m\u001b[37m\u001b[0m \u001b[1m35s\u001b[0m 3s/step - accuracy: 0.8589 - loss: 0.4525 - val_accuracy: 0.8400 - val_loss: 0.2856\n",
      "Epoch 4/25\n",
      "\u001b[1m11/11\u001b[0m \u001b[32m━━━━━━━━━━━━━━━━━━━━\u001b[0m\u001b[37m\u001b[0m \u001b[1m28s\u001b[0m 2s/step - accuracy: 0.8784 - loss: 0.2842 - val_accuracy: 0.9200 - val_loss: 0.1613\n",
      "Epoch 5/25\n",
      "\u001b[1m11/11\u001b[0m \u001b[32m━━━━━━━━━━━━━━━━━━━━\u001b[0m\u001b[37m\u001b[0m \u001b[1m28s\u001b[0m 3s/step - accuracy: 0.9669 - loss: 0.1405 - val_accuracy: 0.9600 - val_loss: 0.1223\n",
      "Epoch 6/25\n",
      "\u001b[1m11/11\u001b[0m \u001b[32m━━━━━━━━━━━━━━━━━━━━\u001b[0m\u001b[37m\u001b[0m \u001b[1m27s\u001b[0m 3s/step - accuracy: 0.9884 - loss: 0.0776 - val_accuracy: 0.9800 - val_loss: 0.0564\n",
      "Epoch 7/25\n",
      "\u001b[1m11/11\u001b[0m \u001b[32m━━━━━━━━━━━━━━━━━━━━\u001b[0m\u001b[37m\u001b[0m \u001b[1m28s\u001b[0m 2s/step - accuracy: 0.9602 - loss: 0.0963 - val_accuracy: 0.7000 - val_loss: 0.7694\n",
      "Epoch 8/25\n",
      "\u001b[1m11/11\u001b[0m \u001b[32m━━━━━━━━━━━━━━━━━━━━\u001b[0m\u001b[37m\u001b[0m \u001b[1m27s\u001b[0m 2s/step - accuracy: 0.8548 - loss: 0.4695 - val_accuracy: 0.8800 - val_loss: 0.5187\n",
      "Epoch 9/25\n",
      "\u001b[1m11/11\u001b[0m \u001b[32m━━━━━━━━━━━━━━━━━━━━\u001b[0m\u001b[37m\u001b[0m \u001b[1m27s\u001b[0m 2s/step - accuracy: 0.9267 - loss: 0.3319 - val_accuracy: 0.9200 - val_loss: 0.2479\n",
      "Epoch 10/25\n",
      "\u001b[1m11/11\u001b[0m \u001b[32m━━━━━━━━━━━━━━━━━━━━\u001b[0m\u001b[37m\u001b[0m \u001b[1m27s\u001b[0m 2s/step - accuracy: 0.9498 - loss: 0.1203 - val_accuracy: 0.9600 - val_loss: 0.0696\n",
      "Epoch 11/25\n",
      "\u001b[1m11/11\u001b[0m \u001b[32m━━━━━━━━━━━━━━━━━━━━\u001b[0m\u001b[37m\u001b[0m \u001b[1m27s\u001b[0m 2s/step - accuracy: 0.9660 - loss: 0.0895 - val_accuracy: 0.9800 - val_loss: 0.0624\n",
      "Epoch 12/25\n",
      "\u001b[1m11/11\u001b[0m \u001b[32m━━━━━━━━━━━━━━━━━━━━\u001b[0m\u001b[37m\u001b[0m \u001b[1m28s\u001b[0m 2s/step - accuracy: 0.9784 - loss: 0.0491 - val_accuracy: 1.0000 - val_loss: 0.0321\n",
      "Epoch 13/25\n",
      "\u001b[1m11/11\u001b[0m \u001b[32m━━━━━━━━━━━━━━━━━━━━\u001b[0m\u001b[37m\u001b[0m \u001b[1m31s\u001b[0m 3s/step - accuracy: 0.9736 - loss: 0.0600 - val_accuracy: 1.0000 - val_loss: 0.0364\n",
      "Epoch 14/25\n",
      "\u001b[1m11/11\u001b[0m \u001b[32m━━━━━━━━━━━━━━━━━━━━\u001b[0m\u001b[37m\u001b[0m \u001b[1m29s\u001b[0m 2s/step - accuracy: 0.9732 - loss: 0.1025 - val_accuracy: 1.0000 - val_loss: 0.0551\n",
      "Epoch 15/25\n",
      "\u001b[1m11/11\u001b[0m \u001b[32m━━━━━━━━━━━━━━━━━━━━\u001b[0m\u001b[37m\u001b[0m \u001b[1m28s\u001b[0m 2s/step - accuracy: 0.9678 - loss: 0.0747 - val_accuracy: 0.9800 - val_loss: 0.0522\n",
      "Epoch 16/25\n",
      "\u001b[1m11/11\u001b[0m \u001b[32m━━━━━━━━━━━━━━━━━━━━\u001b[0m\u001b[37m\u001b[0m \u001b[1m28s\u001b[0m 2s/step - accuracy: 0.9618 - loss: 0.1115 - val_accuracy: 0.9800 - val_loss: 0.0436\n",
      "Epoch 17/25\n",
      "\u001b[1m11/11\u001b[0m \u001b[32m━━━━━━━━━━━━━━━━━━━━\u001b[0m\u001b[37m\u001b[0m \u001b[1m27s\u001b[0m 2s/step - accuracy: 0.9801 - loss: 0.0561 - val_accuracy: 0.9400 - val_loss: 0.1211\n",
      "Epoch 18/25\n",
      "\u001b[1m11/11\u001b[0m \u001b[32m━━━━━━━━━━━━━━━━━━━━\u001b[0m\u001b[37m\u001b[0m \u001b[1m27s\u001b[0m 2s/step - accuracy: 0.9378 - loss: 0.1181 - val_accuracy: 0.9800 - val_loss: 0.0580\n",
      "Epoch 19/25\n",
      "\u001b[1m11/11\u001b[0m \u001b[32m━━━━━━━━━━━━━━━━━━━━\u001b[0m\u001b[37m\u001b[0m \u001b[1m27s\u001b[0m 2s/step - accuracy: 0.9742 - loss: 0.0558 - val_accuracy: 0.9800 - val_loss: 0.0299\n",
      "Epoch 20/25\n",
      "\u001b[1m11/11\u001b[0m \u001b[32m━━━━━━━━━━━━━━━━━━━━\u001b[0m\u001b[37m\u001b[0m \u001b[1m30s\u001b[0m 3s/step - accuracy: 0.9590 - loss: 0.1234 - val_accuracy: 0.9800 - val_loss: 0.0611\n",
      "Epoch 21/25\n",
      "\u001b[1m11/11\u001b[0m \u001b[32m━━━━━━━━━━━━━━━━━━━━\u001b[0m\u001b[37m\u001b[0m \u001b[1m37s\u001b[0m 3s/step - accuracy: 0.9719 - loss: 0.0860 - val_accuracy: 0.9400 - val_loss: 0.0910\n",
      "Epoch 22/25\n",
      "\u001b[1m11/11\u001b[0m \u001b[32m━━━━━━━━━━━━━━━━━━━━\u001b[0m\u001b[37m\u001b[0m \u001b[1m31s\u001b[0m 3s/step - accuracy: 0.9825 - loss: 0.0549 - val_accuracy: 0.9600 - val_loss: 0.0614\n",
      "Epoch 23/25\n",
      "\u001b[1m11/11\u001b[0m \u001b[32m━━━━━━━━━━━━━━━━━━━━\u001b[0m\u001b[37m\u001b[0m \u001b[1m30s\u001b[0m 3s/step - accuracy: 0.9898 - loss: 0.0274 - val_accuracy: 1.0000 - val_loss: 0.0316\n",
      "Epoch 24/25\n",
      "\u001b[1m11/11\u001b[0m \u001b[32m━━━━━━━━━━━━━━━━━━━━\u001b[0m\u001b[37m\u001b[0m \u001b[1m29s\u001b[0m 2s/step - accuracy: 0.9885 - loss: 0.0466 - val_accuracy: 1.0000 - val_loss: 0.0257\n",
      "Epoch 25/25\n",
      "\u001b[1m11/11\u001b[0m \u001b[32m━━━━━━━━━━━━━━━━━━━━\u001b[0m\u001b[37m\u001b[0m \u001b[1m29s\u001b[0m 3s/step - accuracy: 0.9922 - loss: 0.0284 - val_accuracy: 1.0000 - val_loss: 0.0125\n"
     ]
    }
   ],
   "source": [
    "# Step 5: Train the Model\n",
    "history = model.fit(datagen.flow(train_image_data, train_labels_categorical, batch_size=32), epochs=25, validation_data=(np.array([item[0] for item in test_images]), test_labels_categorical))"
   ]
  },
  {
   "cell_type": "code",
   "execution_count": 21,
   "metadata": {},
   "outputs": [],
   "source": [
    "# Step 6: Evaluate the Model\n",
    "acc = history.history['accuracy']\n",
    "val_acc = history.history['val_accuracy']"
   ]
  },
  {
   "cell_type": "code",
   "execution_count": 24,
   "metadata": {},
   "outputs": [
    {
     "name": "stdout",
     "output_type": "stream",
     "text": [
      "Training Accuracy:  0.9937694668769836\n",
      "Validation Accuracy:  1.0\n"
     ]
    }
   ],
   "source": [
    "print(\"Training Accuracy: \", acc[-1])\n",
    "print(\"Validation Accuracy: \", val_acc[-1])"
   ]
  },
  {
   "cell_type": "code",
   "execution_count": 22,
   "metadata": {},
   "outputs": [
    {
     "data": {
      "image/png": "[encoded data removed]",
      "text/plain": [
       "<Figure size 640x480 with 1 Axes>"
      ]
     },
     "metadata": {},
     "output_type": "display_data"
    }
   ],
   "source": [
    "plt.plot(acc)\n",
    "plt.plot(val_acc)\n",
    "plt.title('Model accuracy')\n",
    "plt.ylabel('Accuracy')\n",
    "plt.xlabel('Epoch')\n",
    "plt.legend(['Train', 'Test'], loc='upper left')\n",
    "plt.show()\n"
   ]
  },
  {
   "cell_type": "code",
   "execution_count": 25,
   "metadata": {},
   "outputs": [
    {
     "name": "stdout",
     "output_type": "stream",
     "text": [
      "\u001b[1m2/2\u001b[0m \u001b[32m━━━━━━━━━━━━━━━━━━━━\u001b[0m\u001b[37m\u001b[0m \u001b[1m7s\u001b[0m 2s/step\n"
     ]
    }
   ],
   "source": [
    "# Confusion Matrix\n",
    "pred_labels = model.predict(np.array([item[0] for item in test_images]))\n",
    "pred_labels_classes = np.argmax(pred_labels, axis=1)\n",
    "conf_matrix = confusion_matrix(test_labels_encoded, pred_labels_classes)"
   ]
  },
  {
   "cell_type": "code",
   "execution_count": 29,
   "metadata": {},
   "outputs": [],
   "source": [
    "from sklearn.metrics import accuracy_score, confusion_matrix, ConfusionMatrixDisplay"
   ]
  },
  {
   "cell_type": "code",
   "execution_count": 30,
   "metadata": {},
   "outputs": [
    {
     "data": {
      "image/png": "[encoded data removed]",
      "text/plain": [
       "<Figure size 640x480 with 2 Axes>"
      ]
     },
     "metadata": {},
     "output_type": "display_data"
    }
   ],
   "source": [
    "# Display Confusion Matrix as Image\n",
    "disp = ConfusionMatrixDisplay(confusion_matrix=conf_matrix, display_labels=label_encoder.classes_)\n",
    "disp.plot(cmap=plt.cm.Blues)\n",
    "plt.show()\n"
   ]
  },
  {
   "cell_type": "code",
   "execution_count": 35,
   "metadata": {},
   "outputs": [],
   "source": [
    "# Save the Model\n",
    "model.save(os.path.join(r\"C:\\Users\\RISHI PANDE\\Documents\\Prediction\", \"Train_Model.keras\"))"
   ]
  },
  {
   "cell_type": "code",
   "execution_count": 36,
   "metadata": {},
   "outputs": [],
   "source": [
    "# Save CSV\n",
    "train_df.to_csv(os.path.join(r\"C:\\Users\\RISHI PANDE\\Documents\\Prediction\", \"train_data.csv\"), index=False)\n",
    "test_df.to_csv(os.path.join(r\"C:\\Users\\RISHI PANDE\\Documents\\Prediction\", \"test_data.csv\"), index=False)"
   ]
  },
  {
   "cell_type": "code",
   "execution_count": 37,
   "metadata": {},
   "outputs": [
    {
     "name": "stdout",
     "output_type": "stream",
     "text": [
      "                                               Image  Avg Red Pixel  \\\n",
      "0  [[[237, 239, 235], [237, 238, 234], [236, 237,...     176.218327   \n",
      "1  [[[225, 226, 225], [223, 225, 223], [221, 223,...     149.849473   \n",
      "2  [[[55, 71, 137], [55, 71, 137], [56, 72, 138],...     158.888154   \n",
      "3  [[[40, 55, 112], [40, 55, 112], [39, 54, 111],...     149.297948   \n",
      "4  [[[124, 139, 187], [124, 139, 187], [124, 139,...     152.064289   \n",
      "\n",
      "   Avg Green Pixel  Avg Blue Pixel  Mean RGB Value  Mean HSV Value  \\\n",
      "0       137.372236      133.816809      149.135791       95.748634   \n",
      "1       125.608887      112.120659      129.193006       80.107733   \n",
      "2       112.623146      104.251171      125.254157       95.938145   \n",
      "3        97.341360       88.739659      111.792989       99.889698   \n",
      "4        99.883731       90.122122      114.023381      101.502591   \n",
      "\n",
      "                                           HSV Image        Label  \n",
      "0  [[[75, 4, 239], [83, 4, 238], [80, 3, 237], [7...  bluish nail  \n",
      "1  [[[60, 1, 226], [60, 2, 225], [45, 2, 223], [6...  bluish nail  \n",
      "2  [[[6, 153, 137], [6, 153, 137], [6, 152, 138],...  bluish nail  \n",
      "3  [[[6, 164, 112], [6, 164, 112], [6, 165, 111],...  bluish nail  \n",
      "4  [[[7, 86, 187], [7, 86, 187], [7, 86, 187], [8...  bluish nail  \n",
      "                                               Image  Avg Red Pixel  \\\n",
      "0  [[[237, 239, 235], [237, 238, 234], [236, 237,...     176.218327   \n",
      "1  [[[40, 55, 112], [40, 55, 112], [39, 54, 111],...     149.297948   \n",
      "2  [[[124, 139, 187], [124, 139, 187], [124, 139,...     152.064289   \n",
      "3  [[[124, 149, 196], [124, 149, 196], [124, 149,...     177.576353   \n",
      "4  [[[50, 72, 113], [50, 72, 113], [50, 72, 113],...     143.632479   \n",
      "\n",
      "   Avg Green Pixel  Avg Blue Pixel  Mean RGB Value  Mean HSV Value  \\\n",
      "0       137.372236      133.816809      149.135791       95.748634   \n",
      "1        97.341360       88.739659      111.792989       99.889698   \n",
      "2        99.883731       90.122122      114.023381      101.502591   \n",
      "3       129.245789      113.644413      140.155518       98.986548   \n",
      "4       100.694752       88.959417      111.095549       91.512037   \n",
      "\n",
      "                                           HSV Image        Label  \n",
      "0  [[[75, 4, 239], [83, 4, 238], [80, 3, 237], [7...  bluish nail  \n",
      "1  [[[6, 164, 112], [6, 164, 112], [6, 165, 111],...  bluish nail  \n",
      "2  [[[7, 86, 187], [7, 86, 187], [7, 86, 187], [8...  bluish nail  \n",
      "3  [[[10, 94, 196], [10, 94, 196], [10, 94, 196],...  bluish nail  \n",
      "4  [[[10, 142, 113], [10, 142, 113], [10, 142, 11...  bluish nail  \n"
     ]
    }
   ],
   "source": [
    "# Display few rows from CSV\n",
    "print(train_df.head())\n",
    "print(test_df.head())"
   ]
  },
  {
   "cell_type": "code",
   "execution_count": 107,
   "metadata": {},
   "outputs": [],
   "source": [
    "import os\n",
    "import cv2\n",
    "import numpy as np\n",
    "import matplotlib.pyplot as plt\n",
    "from tensorflow.keras.models import load_model\n",
    "from sklearn.metrics import classification_report, confusion_matrix, ConfusionMatrixDisplay"
   ]
  },
  {
   "cell_type": "code",
   "execution_count": 108,
   "metadata": {},
   "outputs": [],
   "source": [
    "# Define the path to the test folder\n",
    "test_folder = r\"C:\\Users\\RISHI PANDE\\Documents\\Prediction\\Test\"\n"
   ]
  },
  {
   "cell_type": "code",
   "execution_count": 109,
   "metadata": {},
   "outputs": [
    {
     "name": "stdout",
     "output_type": "stream",
     "text": [
      "\u001b[1m2/2\u001b[0m \u001b[32m━━━━━━━━━━━━━━━━━━━━\u001b[0m\u001b[37m\u001b[0m \u001b[1m7s\u001b[0m 2s/step\n"
     ]
    }
   ],
   "source": [
    "# Step 1: Preprocess all test images\n",
    "def preprocess_image(image_path):\n",
    "    image = cv2.imread(image_path)\n",
    "    image = cv2.resize(image, (248, 248))\n",
    "    image = cv2.cvtColor(image, cv2.COLOR_BGR2RGB)  # Convert to RGB\n",
    "    image = image / 255.0  # Normalize the image\n",
    "    return image\n",
    "\n",
    "# Collect all test image paths\n",
    "test_images = []\n",
    "for root, dirs, files in os.walk(test_folder):\n",
    "    for file in files:\n",
    "        if file.lower().endswith(('.png', '.jpg', '.jpeg', '.bmp')):\n",
    "            image_path = os.path.join(root, file)\n",
    "            test_images.append(image_path)\n",
    "\n",
    "# Preprocess all test images\n",
    "test_images_preprocessed = np.array([preprocess_image(image_path) for image_path in test_images])\n",
    "\n",
    "# Step 2: Make predictions for all test images\n",
    "test_pred_probabilities = model.predict(test_images_preprocessed)\n",
    "test_pred_labels = np.argmax(test_pred_probabilities, axis=1)"
   ]
  },
  {
   "cell_type": "code",
   "execution_count": 8,
   "metadata": {},
   "outputs": [
    {
     "ename": "NameError",
     "evalue": "name 'test_images' is not defined",
     "output_type": "error",
     "traceback": [
      "\u001b[1;31m---------------------------------------------------------------------------\u001b[0m",
      "\u001b[1;31mNameError\u001b[0m                                 Traceback (most recent call last)",
      "Cell \u001b[1;32mIn[8], line 9\u001b[0m\n\u001b[0;32m      1\u001b[0m \u001b[38;5;66;03m# Get true labels for evaluation\u001b[39;00m\n\u001b[0;32m      2\u001b[0m label_map \u001b[38;5;241m=\u001b[39m {\n\u001b[0;32m      3\u001b[0m     \u001b[38;5;124m'\u001b[39m\u001b[38;5;124mbluish nail\u001b[39m\u001b[38;5;124m'\u001b[39m: \u001b[38;5;241m0\u001b[39m,\n\u001b[0;32m      4\u001b[0m     \u001b[38;5;124m'\u001b[39m\u001b[38;5;124mHealthy\u001b[39m\u001b[38;5;124m'\u001b[39m: \u001b[38;5;241m1\u001b[39m,\n\u001b[1;32m   (...)\u001b[0m\n\u001b[0;32m      7\u001b[0m     \u001b[38;5;124m'\u001b[39m\u001b[38;5;124myellow nails\u001b[39m\u001b[38;5;124m'\u001b[39m: \u001b[38;5;241m4\u001b[39m\n\u001b[0;32m      8\u001b[0m }\n\u001b[1;32m----> 9\u001b[0m test_true_labels \u001b[38;5;241m=\u001b[39m np\u001b[38;5;241m.\u001b[39marray([label_map[os\u001b[38;5;241m.\u001b[39mpath\u001b[38;5;241m.\u001b[39mbasename(os\u001b[38;5;241m.\u001b[39mpath\u001b[38;5;241m.\u001b[39mdirname(image_path))] \u001b[38;5;28;01mfor\u001b[39;00m image_path \u001b[38;5;129;01min\u001b[39;00m \u001b[43mtest_images\u001b[49m])\n",
      "\u001b[1;31mNameError\u001b[0m: name 'test_images' is not defined"
     ]
    }
   ],
   "source": [
    "# Get true labels for evaluation\n",
    "label_map = {\n",
    "    'bluish nail': 0,\n",
    "    'Healthy': 1,\n",
    "    'splinter hemmorrage': 2,\n",
    "    'white nail': 3,\n",
    "    'yellow nails': 4\n",
    "}\n",
    "test_true_labels = np.array([label_map[os.path.basename(os.path.dirname(image_path))] for image_path in test_images])\n"
   ]
  },
  {
   "cell_type": "code",
   "execution_count": 9,
   "metadata": {},
   "outputs": [
    {
     "name": "stderr",
     "output_type": "stream",
     "text": [
      "c:\\Users\\RISHI PANDE\\AppData\\Local\\Programs\\Python\\Python312\\Lib\\site-packages\\keras\\src\\layers\\convolutional\\base_conv.py:107: UserWarning: Do not pass an `input_shape`/`input_dim` argument to a layer. When using Sequential models, prefer using an `Input(shape)` object as the first layer in the model instead.\n",
      "  super().__init__(activity_regularizer=activity_regularizer, **kwargs)\n"
     ]
    },
    {
     "name": "stdout",
     "output_type": "stream",
     "text": [
      "Epoch 1/20\n",
      "\u001b[1m8/8\u001b[0m \u001b[32m━━━━━━━━━━━━━━━━━━━━\u001b[0m\u001b[37m\u001b[0m \u001b[1m12s\u001b[0m 1s/step - accuracy: 0.2785 - loss: 3.7866 - val_accuracy: 0.6615 - val_loss: 1.0787\n",
      "Epoch 2/20\n",
      "\u001b[1m8/8\u001b[0m \u001b[32m━━━━━━━━━━━━━━━━━━━━\u001b[0m\u001b[37m\u001b[0m \u001b[1m9s\u001b[0m 1s/step - accuracy: 0.5658 - loss: 1.2313 - val_accuracy: 0.7077 - val_loss: 0.8358\n",
      "Epoch 3/20\n",
      "\u001b[1m8/8\u001b[0m \u001b[32m━━━━━━━━━━━━━━━━━━━━\u001b[0m\u001b[37m\u001b[0m \u001b[1m8s\u001b[0m 1s/step - accuracy: 0.5984 - loss: 1.0419 - val_accuracy: 0.6923 - val_loss: 0.7971\n",
      "Epoch 4/20\n",
      "\u001b[1m8/8\u001b[0m \u001b[32m━━━━━━━━━━━━━━━━━━━━\u001b[0m\u001b[37m\u001b[0m \u001b[1m8s\u001b[0m 1s/step - accuracy: 0.6821 - loss: 0.8757 - val_accuracy: 0.7538 - val_loss: 0.7416\n",
      "Epoch 5/20\n",
      "\u001b[1m8/8\u001b[0m \u001b[32m━━━━━━━━━━━━━━━━━━━━\u001b[0m\u001b[37m\u001b[0m \u001b[1m9s\u001b[0m 1s/step - accuracy: 0.7257 - loss: 0.8716 - val_accuracy: 0.6308 - val_loss: 1.0206\n",
      "Epoch 6/20\n",
      "\u001b[1m8/8\u001b[0m \u001b[32m━━━━━━━━━━━━━━━━━━━━\u001b[0m\u001b[37m\u001b[0m \u001b[1m8s\u001b[0m 924ms/step - accuracy: 0.6555 - loss: 0.8351 - val_accuracy: 0.8308 - val_loss: 0.6553\n",
      "Epoch 7/20\n",
      "\u001b[1m8/8\u001b[0m \u001b[32m━━━━━━━━━━━━━━━━━━━━\u001b[0m\u001b[37m\u001b[0m \u001b[1m9s\u001b[0m 1s/step - accuracy: 0.7772 - loss: 0.6462 - val_accuracy: 0.7846 - val_loss: 0.6065\n",
      "Epoch 8/20\n",
      "\u001b[1m8/8\u001b[0m \u001b[32m━━━━━━━━━━━━━━━━━━━━\u001b[0m\u001b[37m\u001b[0m \u001b[1m9s\u001b[0m 1s/step - accuracy: 0.7822 - loss: 0.6145 - val_accuracy: 0.7385 - val_loss: 0.5911\n",
      "Epoch 9/20\n",
      "\u001b[1m8/8\u001b[0m \u001b[32m━━━━━━━━━━━━━━━━━━━━\u001b[0m\u001b[37m\u001b[0m \u001b[1m8s\u001b[0m 976ms/step - accuracy: 0.7884 - loss: 0.5600 - val_accuracy: 0.8308 - val_loss: 0.5894\n",
      "Epoch 10/20\n",
      "\u001b[1m8/8\u001b[0m \u001b[32m━━━━━━━━━━━━━━━━━━━━\u001b[0m\u001b[37m\u001b[0m \u001b[1m8s\u001b[0m 1s/step - accuracy: 0.7559 - loss: 0.5217 - val_accuracy: 0.8154 - val_loss: 0.6088\n",
      "Epoch 11/20\n",
      "\u001b[1m8/8\u001b[0m \u001b[32m━━━━━━━━━━━━━━━━━━━━\u001b[0m\u001b[37m\u001b[0m \u001b[1m8s\u001b[0m 988ms/step - accuracy: 0.8421 - loss: 0.3581 - val_accuracy: 0.8462 - val_loss: 0.6105\n",
      "Epoch 12/20\n",
      "\u001b[1m8/8\u001b[0m \u001b[32m━━━━━━━━━━━━━━━━━━━━\u001b[0m\u001b[37m\u001b[0m \u001b[1m8s\u001b[0m 1s/step - accuracy: 0.8222 - loss: 0.4497 - val_accuracy: 0.7846 - val_loss: 0.7037\n",
      "Epoch 13/20\n",
      "\u001b[1m8/8\u001b[0m \u001b[32m━━━━━━━━━━━━━━━━━━━━\u001b[0m\u001b[37m\u001b[0m \u001b[1m8s\u001b[0m 1s/step - accuracy: 0.8759 - loss: 0.3487 - val_accuracy: 0.8308 - val_loss: 0.6804\n",
      "Epoch 14/20\n",
      "\u001b[1m8/8\u001b[0m \u001b[32m━━━━━━━━━━━━━━━━━━━━\u001b[0m\u001b[37m\u001b[0m \u001b[1m8s\u001b[0m 981ms/step - accuracy: 0.8727 - loss: 0.3631 - val_accuracy: 0.7385 - val_loss: 0.9154\n",
      "Epoch 15/20\n",
      "\u001b[1m8/8\u001b[0m \u001b[32m━━━━━━━━━━━━━━━━━━━━\u001b[0m\u001b[37m\u001b[0m \u001b[1m8s\u001b[0m 1s/step - accuracy: 0.8597 - loss: 0.3551 - val_accuracy: 0.7692 - val_loss: 0.8213\n",
      "Epoch 16/20\n",
      "\u001b[1m8/8\u001b[0m \u001b[32m━━━━━━━━━━━━━━━━━━━━\u001b[0m\u001b[37m\u001b[0m \u001b[1m9s\u001b[0m 1s/step - accuracy: 0.9009 - loss: 0.2812 - val_accuracy: 0.8308 - val_loss: 0.7027\n",
      "Epoch 17/20\n",
      "\u001b[1m8/8\u001b[0m \u001b[32m━━━━━━━━━━━━━━━━━━━━\u001b[0m\u001b[37m\u001b[0m \u001b[1m8s\u001b[0m 1s/step - accuracy: 0.9244 - loss: 0.2488 - val_accuracy: 0.8462 - val_loss: 0.7364\n",
      "Epoch 18/20\n",
      "\u001b[1m8/8\u001b[0m \u001b[32m━━━━━━━━━━━━━━━━━━━━\u001b[0m\u001b[37m\u001b[0m \u001b[1m8s\u001b[0m 998ms/step - accuracy: 0.9592 - loss: 0.1493 - val_accuracy: 0.8000 - val_loss: 0.8724\n",
      "Epoch 19/20\n",
      "\u001b[1m8/8\u001b[0m \u001b[32m━━━━━━━━━━━━━━━━━━━━\u001b[0m\u001b[37m\u001b[0m \u001b[1m8s\u001b[0m 1s/step - accuracy: 0.9371 - loss: 0.1955 - val_accuracy: 0.8154 - val_loss: 0.9968\n",
      "Epoch 20/20\n",
      "\u001b[1m8/8\u001b[0m \u001b[32m━━━━━━━━━━━━━━━━━━━━\u001b[0m\u001b[37m\u001b[0m \u001b[1m9s\u001b[0m 1s/step - accuracy: 0.9398 - loss: 0.1485 - val_accuracy: 0.8000 - val_loss: 0.7438\n"
     ]
    }
   ],
   "source": [
    "import os\n",
    "import cv2\n",
    "import numpy as np\n",
    "from tensorflow.keras.preprocessing.image import ImageDataGenerator\n",
    "from tensorflow.keras.models import Sequential\n",
    "from tensorflow.keras.layers import Conv2D, MaxPooling2D, Flatten, Dense, Dropout\n",
    "from tensorflow.keras.optimizers import Adam\n",
    "from sklearn.preprocessing import LabelEncoder\n",
    "from sklearn.model_selection import train_test_split\n",
    "\n",
    "# Define paths to the dataset folders\n",
    "train_folder = r\"C:\\Users\\RISHI PANDE\\Documents\\Prediction\\Train\"\n",
    "\n",
    "# Step 1: Load and preprocess training images\n",
    "def load_and_preprocess_data(folder_path):\n",
    "    images = []\n",
    "    labels = []\n",
    "\n",
    "    # Iterate through each folder (class) in the dataset\n",
    "    for i, folder in enumerate(sorted(os.listdir(folder_path))):\n",
    "        label = folder  # Use folder name as label\n",
    "\n",
    "        # Iterate through each image in the current folder\n",
    "        for file in os.listdir(os.path.join(folder_path, folder)):\n",
    "            if file.lower().endswith(('.png', '.jpg', '.jpeg', '.bmp')):\n",
    "                image_path = os.path.join(folder_path, folder, file)\n",
    "                image = cv2.imread(image_path)\n",
    "                image = cv2.resize(image, (248, 248))\n",
    "                image = cv2.cvtColor(image, cv2.COLOR_BGR2RGB)  # Convert to RGB\n",
    "                image = image / 255.0  # Normalize the image\n",
    "                images.append(image)\n",
    "                labels.append(label)\n",
    "\n",
    "    # Convert lists to numpy arrays\n",
    "    images = np.array(images)\n",
    "    labels = np.array(labels)\n",
    "\n",
    "    # Encode labels\n",
    "    label_encoder = LabelEncoder()\n",
    "    labels_encoded = label_encoder.fit_transform(labels)\n",
    "\n",
    "    return images, labels_encoded, label_encoder\n",
    "\n",
    "# Load and preprocess training data\n",
    "train_images, train_labels, label_encoder = load_and_preprocess_data(train_folder)\n",
    "\n",
    "# Shuffle the dataset\n",
    "shuffle_indices = np.random.permutation(len(train_images))\n",
    "train_images = train_images[shuffle_indices]\n",
    "train_labels = train_labels[shuffle_indices]\n",
    "\n",
    "# Step 2: Define the CNN model architecture\n",
    "model = Sequential([\n",
    "    Conv2D(32, (3, 3), activation='relu', input_shape=(248, 248, 3)),\n",
    "    MaxPooling2D((2, 2)),\n",
    "    Conv2D(64, (3, 3), activation='relu'),\n",
    "    MaxPooling2D((2, 2)),\n",
    "    Conv2D(128, (3, 3), activation='relu'),\n",
    "    MaxPooling2D((2, 2)),\n",
    "    Flatten(),\n",
    "    Dense(128, activation='relu'),\n",
    "    Dropout(0.5),\n",
    "    Dense(len(label_encoder.classes_), activation='softmax')\n",
    "])\n",
    "\n",
    "# Compile the model\n",
    "model.compile(optimizer='adam', loss='sparse_categorical_crossentropy', metrics=['accuracy'])\n",
    "\n",
    "# Step 3: Train the model\n",
    "history = model.fit(train_images, train_labels, epochs=20, batch_size=32, validation_split=0.2)\n",
    "\n",
    "# Step 4: Evaluate the model\n",
    "# (You can use the code provided earlier to evaluate the model on the test set)\n"
   ]
  },
  {
   "cell_type": "code",
   "execution_count": 10,
   "metadata": {},
   "outputs": [],
   "source": [
    "\n",
    "# Step 6: Evaluate the Model\n",
    "acc = history.history['accuracy']\n",
    "val_acc = history.history['val_accuracy']"
   ]
  },
  {
   "cell_type": "code",
   "execution_count": 11,
   "metadata": {},
   "outputs": [
    {
     "name": "stdout",
     "output_type": "stream",
     "text": [
      "Training Accuracy:  0.94140625\n",
      "Validation Accuracy:  0.800000011920929\n"
     ]
    }
   ],
   "source": [
    "print(\"Training Accuracy: \", acc[-1])\n",
    "print(\"Validation Accuracy: \", val_acc[-1])"
   ]
  },
  {
   "cell_type": "code",
   "execution_count": 12,
   "metadata": {},
   "outputs": [
    {
     "ename": "NameError",
     "evalue": "name 'test_images_preprocessed' is not defined",
     "output_type": "error",
     "traceback": [
      "\u001b[1;31m---------------------------------------------------------------------------\u001b[0m",
      "\u001b[1;31mNameError\u001b[0m                                 Traceback (most recent call last)",
      "Cell \u001b[1;32mIn[12], line 2\u001b[0m\n\u001b[0;32m      1\u001b[0m \u001b[38;5;66;03m# Step 3: Predict using the model\u001b[39;00m\n\u001b[1;32m----> 2\u001b[0m pred_labels \u001b[38;5;241m=\u001b[39m model\u001b[38;5;241m.\u001b[39mpredict(\u001b[43mtest_images_preprocessed\u001b[49m)\n\u001b[0;32m      3\u001b[0m pred_labels_classes \u001b[38;5;241m=\u001b[39m np\u001b[38;5;241m.\u001b[39margmax(pred_labels, axis\u001b[38;5;241m=\u001b[39m\u001b[38;5;241m1\u001b[39m)\n\u001b[0;32m      5\u001b[0m \u001b[38;5;66;03m# Step 4: Evaluate using confusion matrix\u001b[39;00m\n",
      "\u001b[1;31mNameError\u001b[0m: name 'test_images_preprocessed' is not defined"
     ]
    }
   ],
   "source": [
    "# Step 3: Predict using the model\n",
    "pred_labels = model.predict(test_images_preprocessed)\n",
    "pred_labels_classes = np.argmax(pred_labels, axis=1)\n",
    "\n",
    "# Step 4: Evaluate using confusion matrix\n",
    "conf_matrix = confusion_matrix(test_labels_encoded, pred_labels_classes, labels=np.arange(len(label_encoder.classes_)))\n",
    "disp = ConfusionMatrixDisplay(confusion_matrix=conf_matrix, display_labels=label_encoder.classes_)\n",
    "disp.plot(cmap='Blues')"
   ]
  },
  {
   "cell_type": "code",
   "execution_count": 2,
   "metadata": {},
   "outputs": [
    {
     "name": "stderr",
     "output_type": "stream",
     "text": [
      "WARNING:absl:You are saving your model as an HDF5 file via `model.save()` or `keras.saving.save_model(model)`. This file format is considered legacy. We recommend using instead the native Keras format, e.g. `model.save('my_model.keras')` or `keras.saving.save_model(model, 'my_model.keras')`. \n"
     ]
    },
    {
     "name": "stdout",
     "output_type": "stream",
     "text": [
      "Model saved successfully at: C:\\Users\\RISHI PANDE\\Documents\\Prediction\\Train_Model.h5\n"
     ]
    }
   ],
   "source": [
    "from tensorflow.keras.models import save_model\n",
    "\n",
    "# Define the path to save the model\n",
    "model_save_path = r\"C:\\Users\\RISHI PANDE\\Documents\\Prediction\\Train_Model.h5\"\n",
    "\n",
    "# Save the model\n",
    "model.save(model_save_path)\n",
    "\n",
    "print(f\"Model saved successfully at: {model_save_path}\")"
   ]
  },
  {
   "cell_type": "code",
   "execution_count": 3,
   "metadata": {},
   "outputs": [
    {
     "name": "stderr",
     "output_type": "stream",
     "text": [
      "WARNING:absl:Compiled the loaded model, but the compiled metrics have yet to be built. `model.compile_metrics` will be empty until you train or evaluate the model.\n"
     ]
    },
    {
     "name": "stdout",
     "output_type": "stream",
     "text": [
      "\u001b[1m1/1\u001b[0m \u001b[32m━━━━━━━━━━━━━━━━━━━━\u001b[0m\u001b[37m\u001b[0m \u001b[1m0s\u001b[0m 230ms/step\n"
     ]
    },
    {
     "ename": "NameError",
     "evalue": "name 'label_encoder' is not defined",
     "output_type": "error",
     "traceback": [
      "\u001b[1;31m---------------------------------------------------------------------------\u001b[0m",
      "\u001b[1;31mNameError\u001b[0m                                 Traceback (most recent call last)",
      "Cell \u001b[1;32mIn[3], line 33\u001b[0m\n\u001b[0;32m     31\u001b[0m predicted_class_prob \u001b[38;5;241m=\u001b[39m np\u001b[38;5;241m.\u001b[39mmax(predictions)\n\u001b[0;32m     32\u001b[0m predicted_class_index \u001b[38;5;241m=\u001b[39m np\u001b[38;5;241m.\u001b[39margmax(predictions)\n\u001b[1;32m---> 33\u001b[0m predicted_class \u001b[38;5;241m=\u001b[39m \u001b[43mlabel_encoder\u001b[49m\u001b[38;5;241m.\u001b[39mclasses_[predicted_class_index]\n\u001b[0;32m     35\u001b[0m \u001b[38;5;66;03m# Display results\u001b[39;00m\n\u001b[0;32m     36\u001b[0m \u001b[38;5;28mprint\u001b[39m(\u001b[38;5;124mf\u001b[39m\u001b[38;5;124m\"\u001b[39m\u001b[38;5;124mOriginal Image:\u001b[39m\u001b[38;5;124m\"\u001b[39m)\n",
      "\u001b[1;31mNameError\u001b[0m: name 'label_encoder' is not defined"
     ]
    }
   ],
   "source": [
    "import os\n",
    "import cv2\n",
    "import numpy as np\n",
    "from tensorflow.keras.models import load_model\n",
    "\n",
    "# Load the saved model\n",
    "model_path = r\"C:\\Users\\RISHI PANDE\\Documents\\Prediction\\Train_Model.h5\"\n",
    "model = load_model(model_path)\n",
    "\n",
    "# Function to preprocess a single image\n",
    "def preprocess_image(image_path):\n",
    "    image = cv2.imread(image_path)\n",
    "    image = cv2.resize(image, (248, 248))\n",
    "    image = cv2.cvtColor(image, cv2.COLOR_BGR2RGB)  # Convert to RGB\n",
    "    image = image.astype(np.float32) / 255.0  # Normalize to [0, 1]\n",
    "    return image\n",
    "\n",
    "# Path to the test image\n",
    "test_image_path = r\"C:\\Users\\RISHI PANDE\\Documents\\Prediction\\Test\\yellow nails\\3.PNG\"\n",
    "\n",
    "# Preprocess the test image\n",
    "test_image = preprocess_image(test_image_path)\n",
    "\n",
    "# Reshape the image to match model input shape (add batch dimension)\n",
    "test_image_input = np.expand_dims(test_image, axis=0)\n",
    "\n",
    "# Predict using the model\n",
    "predictions = model.predict(test_image_input)\n",
    "\n",
    "# Get the predicted class probabilities and labels\n",
    "predicted_class_prob = np.max(predictions)\n",
    "predicted_class_index = np.argmax(predictions)\n",
    "predicted_class = label_encoder.classes_[predicted_class_index]\n",
    "\n",
    "# Display results\n",
    "print(f\"Original Image:\")\n",
    "original_image = cv2.imread(test_image_path)\n",
    "original_image = cv2.cvtColor(original_image, cv2.COLOR_BGR2RGB)  # Convert to RGB for display\n",
    "plt.imshow(original_image)\n",
    "plt.axis('off')\n",
    "plt.show()\n",
    "\n",
    "print(f\"Probability of ({predicted_class}) is: {predicted_class_prob:.6f}\")\n",
    "print(f\"Final Diagnosis result: {predicted_class}\")\n"
   ]
  },
  {
   "cell_type": "code",
   "execution_count": null,
   "metadata": {},
   "outputs": [],
   "source": []
  }
 ],
 "metadata": {
  "kernelspec": {
   "display_name": "Python 3",
   "language": "python",
   "name": "python3"
  },
  "language_info": {
   "codemirror_mode": {
    "name": "ipython",
    "version": 3
   },
   "file_extension": ".py",
   "mimetype": "text/x-python",
   "name": "python",
   "nbconvert_exporter": "python",
   "pygments_lexer": "ipython3",
   "version": "3.12.3"
  }
 },
 "nbformat": 4,
 "nbformat_minor": 2
}
