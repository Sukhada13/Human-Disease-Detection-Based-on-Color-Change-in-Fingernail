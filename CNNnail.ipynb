{
 "cells": [
  {
   "cell_type": "code",
   "execution_count": 40,
   "metadata": {},
   "outputs": [],
   "source": [
    "import os\n",
    "import cv2\n",
    "import numpy as np\n",
    "import pandas as pd\n",
    "from sklearn.utils import shuffle"
   ]
  },
  {
   "cell_type": "code",
   "execution_count": 41,
   "metadata": {},
   "outputs": [],
   "source": [
    "# Paths\n",
    "train_path = r'C:\\Users\\RISHI PANDE\\Documents\\Prediction\\train_Nails'\n",
    "csv_path = r'C:\\Users\\RISHI PANDE\\Documents\\Prediction\\Extracted_RGB.CSV'"
   ]
  },
  {
   "cell_type": "code",
   "execution_count": 42,
   "metadata": {},
   "outputs": [],
   "source": [
    "# Classes\n",
    "classes = ['Bluish nail', 'Healthy', 'Splinter Hemmorrage', 'White Nail', 'Yellow Nail']"
   ]
  },
  {
   "cell_type": "code",
   "execution_count": 43,
   "metadata": {},
   "outputs": [],
   "source": [
    "\n",
    "# Initialize list to hold data\n",
    "data = []"
   ]
  },
  {
   "cell_type": "code",
   "execution_count": 44,
   "metadata": {},
   "outputs": [],
   "source": [
    "# Loop through each class directory\n",
    "for disease in classes:\n",
    "    disease_path = os.path.join(train_path, disease)\n",
    "    for img_name in os.listdir(disease_path):\n",
    "        img_path = os.path.join(disease_path, img_name)\n",
    "        img = cv2.imread(img_path)\n",
    "        if img is not None:\n",
    "            mean_rgb = img.mean(axis=(0, 1))\n",
    "            red_value = mean_rgb[2]\n",
    "            green_value = mean_rgb[1]\n",
    "            blue_value = mean_rgb[0]\n",
    "            mean_value = mean_rgb.mean()\n",
    "            data.append([img_path, red_value, green_value, blue_value, mean_value, disease])"
   ]
  },
  {
   "cell_type": "code",
   "execution_count": 45,
   "metadata": {},
   "outputs": [],
   "source": [
    "# Create DataFrame\n",
    "df = pd.DataFrame(data, columns=['Image_Path', 'Red Pixel Value', 'Green Pixel Value', 'Blue Pixel Value', 'Mean RGB Pixel', 'Detected Disease'])"
   ]
  },
  {
   "cell_type": "code",
   "execution_count": 46,
   "metadata": {},
   "outputs": [],
   "source": [
    "# Shuffle the dataset\n",
    "df = shuffle(df)"
   ]
  },
  {
   "cell_type": "code",
   "execution_count": 47,
   "metadata": {},
   "outputs": [],
   "source": [
    "# Encode labels and convert to string\n",
    "df['Encoded_Labels'] = df['Detected Disease'].astype('category').cat.codes.astype(str)"
   ]
  },
  {
   "cell_type": "code",
   "execution_count": 48,
   "metadata": {},
   "outputs": [],
   "source": [
    "# Save to CSV\n",
    "df.to_csv(csv_path, index=False)"
   ]
  },
  {
   "cell_type": "code",
   "execution_count": 49,
   "metadata": {},
   "outputs": [
    {
     "name": "stdout",
     "output_type": "stream",
     "text": [
      "                                             Image_Path  Red Pixel Value  \\\n",
      "409   C:\\Users\\RISHI PANDE\\Documents\\Prediction\\trai...       174.249107   \n",
      "861   C:\\Users\\RISHI PANDE\\Documents\\Prediction\\trai...       181.240612   \n",
      "2247  C:\\Users\\RISHI PANDE\\Documents\\Prediction\\trai...       204.491462   \n",
      "2021  C:\\Users\\RISHI PANDE\\Documents\\Prediction\\trai...       146.921062   \n",
      "1398  C:\\Users\\RISHI PANDE\\Documents\\Prediction\\trai...       211.542172   \n",
      "\n",
      "      Green Pixel Value  Blue Pixel Value  Mean RGB Pixel  \\\n",
      "409          156.248862        194.251895      174.916621   \n",
      "861          140.702974        124.685302      148.876296   \n",
      "2247         166.923474        157.041075      176.152004   \n",
      "2021         128.871502        120.575201      132.122589   \n",
      "1398         190.409270        174.684536      192.211993   \n",
      "\n",
      "         Detected Disease Encoded_Labels  \n",
      "409               Healthy              1  \n",
      "861   Splinter Hemmorrage              2  \n",
      "2247          Yellow Nail              4  \n",
      "2021           White Nail              3  \n",
      "1398           White Nail              3  \n"
     ]
    }
   ],
   "source": [
    "# Display the head of the CSV file\n",
    "print(df.head())"
   ]
  },
  {
   "cell_type": "code",
   "execution_count": 55,
   "metadata": {},
   "outputs": [],
   "source": [
    "import pandas as pd"
   ]
  },
  {
   "cell_type": "code",
   "execution_count": 56,
   "metadata": {},
   "outputs": [],
   "source": [
    "# Load the CSV file\n",
    "csv_path = r'C:\\Users\\RISHI PANDE\\Documents\\Prediction\\Extracted_RGB.CSV'\n",
    "df = pd.read_csv(csv_path)"
   ]
  },
  {
   "cell_type": "code",
   "execution_count": 57,
   "metadata": {},
   "outputs": [],
   "source": [
    "# Convert Encoded_Labels to string\n",
    "df['Encoded_Labels'] = df['Encoded_Labels'].astype(str)"
   ]
  },
  {
   "cell_type": "code",
   "execution_count": 58,
   "metadata": {},
   "outputs": [
    {
     "name": "stdout",
     "output_type": "stream",
     "text": [
      "Image_Path            object\n",
      "Red Pixel Value      float64\n",
      "Green Pixel Value    float64\n",
      "Blue Pixel Value     float64\n",
      "Mean RGB Pixel       float64\n",
      "Detected Disease      object\n",
      "Encoded_Labels        object\n",
      "dtype: object\n"
     ]
    }
   ],
   "source": [
    "# Check the column types\n",
    "print(df.dtypes)"
   ]
  },
  {
   "cell_type": "code",
   "execution_count": 59,
   "metadata": {},
   "outputs": [
    {
     "name": "stdout",
     "output_type": "stream",
     "text": [
      "<class 'pandas.core.frame.DataFrame'>\n",
      "RangeIndex: 2820 entries, 0 to 2819\n",
      "Data columns (total 7 columns):\n",
      " #   Column             Non-Null Count  Dtype  \n",
      "---  ------             --------------  -----  \n",
      " 0   Image_Path         2820 non-null   object \n",
      " 1   Red Pixel Value    2820 non-null   float64\n",
      " 2   Green Pixel Value  2820 non-null   float64\n",
      " 3   Blue Pixel Value   2820 non-null   float64\n",
      " 4   Mean RGB Pixel     2820 non-null   float64\n",
      " 5   Detected Disease   2820 non-null   object \n",
      " 6   Encoded_Labels     2820 non-null   object \n",
      "dtypes: float64(4), object(3)\n",
      "memory usage: 154.3+ KB\n",
      "None\n",
      "                                          Image_Path  Red Pixel Value  \\\n",
      "0  C:\\Users\\RISHI PANDE\\Documents\\Prediction\\trai...       174.249107   \n",
      "1  C:\\Users\\RISHI PANDE\\Documents\\Prediction\\trai...       181.240612   \n",
      "2  C:\\Users\\RISHI PANDE\\Documents\\Prediction\\trai...       204.491462   \n",
      "3  C:\\Users\\RISHI PANDE\\Documents\\Prediction\\trai...       146.921062   \n",
      "4  C:\\Users\\RISHI PANDE\\Documents\\Prediction\\trai...       211.542172   \n",
      "\n",
      "   Green Pixel Value  Blue Pixel Value  Mean RGB Pixel     Detected Disease  \\\n",
      "0         156.248862        194.251895      174.916621              Healthy   \n",
      "1         140.702974        124.685302      148.876296  Splinter Hemmorrage   \n",
      "2         166.923474        157.041075      176.152004          Yellow Nail   \n",
      "3         128.871502        120.575201      132.122589           White Nail   \n",
      "4         190.409270        174.684536      192.211993           White Nail   \n",
      "\n",
      "  Encoded_Labels  \n",
      "0              1  \n",
      "1              2  \n",
      "2              4  \n",
      "3              3  \n",
      "4              3  \n"
     ]
    }
   ],
   "source": [
    "# Print the DataFrame structure and sample values\n",
    "print(df.info())\n",
    "print(df.head())"
   ]
  },
  {
   "cell_type": "code",
   "execution_count": 60,
   "metadata": {},
   "outputs": [
    {
     "name": "stdout",
     "output_type": "stream",
     "text": [
      "Image_Path           0\n",
      "Red Pixel Value      0\n",
      "Green Pixel Value    0\n",
      "Blue Pixel Value     0\n",
      "Mean RGB Pixel       0\n",
      "Detected Disease     0\n",
      "Encoded_Labels       0\n",
      "dtype: int64\n"
     ]
    }
   ],
   "source": [
    "# Check for empty or NaN values\n",
    "print(df.isna().sum())"
   ]
  },
  {
   "cell_type": "code",
   "execution_count": 61,
   "metadata": {},
   "outputs": [],
   "source": [
    "import os\n",
    "import pandas as pd\n",
    "import tensorflow as tf\n",
    "from tensorflow.keras.preprocessing.image import ImageDataGenerator\n",
    "from tensorflow.keras.applications import VGG16\n",
    "from tensorflow.keras.models import Model\n",
    "from tensorflow.keras.layers import Dense, Flatten, Dropout\n",
    "from tensorflow.keras.optimizers import Adam"
   ]
  },
  {
   "cell_type": "code",
   "execution_count": 62,
   "metadata": {},
   "outputs": [],
   "source": [
    "# Load the CSV file\n",
    "csv_path = r'C:\\Users\\RISHI PANDE\\Documents\\Prediction\\Extracted_RGB.CSV'\n",
    "df = pd.read_csv(csv_path)"
   ]
  },
  {
   "cell_type": "code",
   "execution_count": 63,
   "metadata": {},
   "outputs": [],
   "source": [
    "# Convert Encoded_Labels to string\n",
    "df['Encoded_Labels'] = df['Encoded_Labels'].astype(str)"
   ]
  },
  {
   "cell_type": "code",
   "execution_count": 64,
   "metadata": {},
   "outputs": [],
   "source": [
    "# Image dimensions\n",
    "img_size = (224, 224)"
   ]
  },
  {
   "cell_type": "code",
   "execution_count": 65,
   "metadata": {},
   "outputs": [],
   "source": [
    "# Create ImageDataGenerator\n",
    "datagen = ImageDataGenerator(rescale=1./255, validation_split=0.2)"
   ]
  },
  {
   "cell_type": "code",
   "execution_count": 66,
   "metadata": {},
   "outputs": [
    {
     "name": "stdout",
     "output_type": "stream",
     "text": [
      "Found 2256 validated image filenames belonging to 5 classes.\n",
      "Found 564 validated image filenames belonging to 5 classes.\n"
     ]
    }
   ],
   "source": [
    "train_generator = datagen.flow_from_dataframe(\n",
    "    dataframe=df,\n",
    "    x_col='Image_Path',\n",
    "    y_col='Encoded_Labels',\n",
    "    target_size=img_size,\n",
    "    batch_size=32,\n",
    "    class_mode='categorical',\n",
    "    subset='training'\n",
    ")\n",
    "\n",
    "validation_generator = datagen.flow_from_dataframe(\n",
    "    dataframe=df,\n",
    "    x_col='Image_Path',\n",
    "    y_col='Encoded_Labels',\n",
    "    target_size=img_size,\n",
    "    batch_size=32,\n",
    "    class_mode='categorical',\n",
    "    subset='validation'\n",
    ")"
   ]
  },
  {
   "cell_type": "code",
   "execution_count": 67,
   "metadata": {},
   "outputs": [],
   "source": [
    "# Load VGG16 model without top layers\n",
    "base_model = VGG16(weights='imagenet', include_top=False, input_shape=(224, 224, 3))"
   ]
  },
  {
   "cell_type": "code",
   "execution_count": 68,
   "metadata": {},
   "outputs": [],
   "source": [
    "# Freeze base model\n",
    "base_model.trainable = False\n"
   ]
  },
  {
   "cell_type": "code",
   "execution_count": 69,
   "metadata": {},
   "outputs": [],
   "source": [
    "# Add custom layers on top of VGG16\n",
    "x = base_model.output\n",
    "x = Flatten()(x)\n",
    "x = Dense(1024, activation='relu')(x)\n",
    "x = Dropout(0.5)(x)\n",
    "x = Dense(512, activation='relu')(x)\n",
    "x = Dropout(0.5)(x)\n",
    "predictions = Dense(len(df['Encoded_Labels'].unique()), activation='softmax')(x)\n"
   ]
  },
  {
   "cell_type": "code",
   "execution_count": 70,
   "metadata": {},
   "outputs": [],
   "source": [
    "# Create the model\n",
    "model = Model(inputs=base_model.input, outputs=predictions)"
   ]
  },
  {
   "cell_type": "code",
   "execution_count": 72,
   "metadata": {},
   "outputs": [],
   "source": [
    "# Compile the model with corrected learning rate argument\n",
    "model.compile(optimizer=Adam(learning_rate=0.0001), loss='categorical_crossentropy', metrics=['accuracy'])"
   ]
  },
  {
   "cell_type": "code",
   "execution_count": 73,
   "metadata": {},
   "outputs": [
    {
     "name": "stdout",
     "output_type": "stream",
     "text": [
      "Epoch 1/10\n"
     ]
    },
    {
     "name": "stderr",
     "output_type": "stream",
     "text": [
      "c:\\Users\\RISHI PANDE\\AppData\\Local\\Programs\\Python\\Python312\\Lib\\site-packages\\keras\\src\\trainers\\data_adapters\\py_dataset_adapter.py:121: UserWarning: Your `PyDataset` class should call `super().__init__(**kwargs)` in its constructor. `**kwargs` can include `workers`, `use_multiprocessing`, `max_queue_size`. Do not pass these arguments to `fit()`, as they will be ignored.\n",
      "  self._warn_if_super_not_called()\n"
     ]
    },
    {
     "name": "stdout",
     "output_type": "stream",
     "text": [
      "\u001b[1m71/71\u001b[0m \u001b[32m━━━━━━━━━━━━━━━━━━━━\u001b[0m\u001b[37m\u001b[0m \u001b[1m269s\u001b[0m 4s/step - accuracy: 0.2789 - loss: 1.7702 - val_accuracy: 0.6028 - val_loss: 1.2309\n",
      "Epoch 2/10\n",
      "\u001b[1m71/71\u001b[0m \u001b[32m━━━━━━━━━━━━━━━━━━━━\u001b[0m\u001b[37m\u001b[0m \u001b[1m243s\u001b[0m 3s/step - accuracy: 0.4531 - loss: 1.3005 - val_accuracy: 0.5656 - val_loss: 1.0722\n",
      "Epoch 3/10\n",
      "\u001b[1m71/71\u001b[0m \u001b[32m━━━━━━━━━━━━━━━━━━━━\u001b[0m\u001b[37m\u001b[0m \u001b[1m246s\u001b[0m 3s/step - accuracy: 0.5683 - loss: 1.0906 - val_accuracy: 0.6649 - val_loss: 0.8987\n",
      "Epoch 4/10\n",
      "\u001b[1m71/71\u001b[0m \u001b[32m━━━━━━━━━━━━━━━━━━━━\u001b[0m\u001b[37m\u001b[0m \u001b[1m241s\u001b[0m 3s/step - accuracy: 0.6402 - loss: 0.9305 - val_accuracy: 0.7340 - val_loss: 0.7751\n",
      "Epoch 5/10\n",
      "\u001b[1m71/71\u001b[0m \u001b[32m━━━━━━━━━━━━━━━━━━━━\u001b[0m\u001b[37m\u001b[0m \u001b[1m243s\u001b[0m 3s/step - accuracy: 0.6790 - loss: 0.8268 - val_accuracy: 0.7589 - val_loss: 0.6812\n",
      "Epoch 6/10\n",
      "\u001b[1m71/71\u001b[0m \u001b[32m━━━━━━━━━━━━━━━━━━━━\u001b[0m\u001b[37m\u001b[0m \u001b[1m245s\u001b[0m 3s/step - accuracy: 0.7358 - loss: 0.7141 - val_accuracy: 0.7500 - val_loss: 0.6736\n",
      "Epoch 7/10\n",
      "\u001b[1m71/71\u001b[0m \u001b[32m━━━━━━━━━━━━━━━━━━━━\u001b[0m\u001b[37m\u001b[0m \u001b[1m245s\u001b[0m 3s/step - accuracy: 0.7487 - loss: 0.6513 - val_accuracy: 0.7465 - val_loss: 0.6454\n",
      "Epoch 8/10\n",
      "\u001b[1m71/71\u001b[0m \u001b[32m━━━━━━━━━━━━━━━━━━━━\u001b[0m\u001b[37m\u001b[0m \u001b[1m246s\u001b[0m 3s/step - accuracy: 0.7901 - loss: 0.6091 - val_accuracy: 0.7890 - val_loss: 0.5439\n",
      "Epoch 9/10\n",
      "\u001b[1m71/71\u001b[0m \u001b[32m━━━━━━━━━━━━━━━━━━━━\u001b[0m\u001b[37m\u001b[0m \u001b[1m245s\u001b[0m 3s/step - accuracy: 0.8181 - loss: 0.5252 - val_accuracy: 0.7872 - val_loss: 0.5238\n",
      "Epoch 10/10\n",
      "\u001b[1m71/71\u001b[0m \u001b[32m━━━━━━━━━━━━━━━━━━━━\u001b[0m\u001b[37m\u001b[0m \u001b[1m246s\u001b[0m 3s/step - accuracy: 0.8307 - loss: 0.4722 - val_accuracy: 0.7890 - val_loss: 0.5477\n"
     ]
    }
   ],
   "source": [
    "# Train the model\n",
    "history = model.fit(\n",
    "    train_generator,\n",
    "    epochs=10,\n",
    "    validation_data=validation_generator\n",
    ")"
   ]
  },
  {
   "cell_type": "code",
   "execution_count": 74,
   "metadata": {},
   "outputs": [
    {
     "name": "stderr",
     "output_type": "stream",
     "text": [
      "WARNING:absl:You are saving your model as an HDF5 file via `model.save()` or `keras.saving.save_model(model)`. This file format is considered legacy. We recommend using instead the native Keras format, e.g. `model.save('my_model.keras')` or `keras.saving.save_model(model, 'my_model.keras')`. \n"
     ]
    }
   ],
   "source": [
    "# Save the model\n",
    "model.save(r'C:\\Users\\RISHI PANDE\\Documents\\Prediction\\nail_disease_model.h5')"
   ]
  },
  {
   "cell_type": "code",
   "execution_count": 77,
   "metadata": {},
   "outputs": [
    {
     "name": "stderr",
     "output_type": "stream",
     "text": [
      "WARNING:absl:Compiled the loaded model, but the compiled metrics have yet to be built. `model.compile_metrics` will be empty until you train or evaluate the model.\n"
     ]
    },
    {
     "name": "stdout",
     "output_type": "stream",
     "text": [
      "\u001b[1m18/18\u001b[0m \u001b[32m━━━━━━━━━━━━━━━━━━━━\u001b[0m\u001b[37m\u001b[0m \u001b[1m50s\u001b[0m 3s/step - accuracy: 0.8037 - loss: 0.5205\n",
      "Validation Accuracy: 78.90%\n"
     ]
    }
   ],
   "source": [
    "# Load the saved model\n",
    "model = load_model(model_path)\n",
    "\n",
    "# Evaluate the model\n",
    "val_loss, val_accuracy = model.evaluate(validation_generator)\n",
    "print(f\"Validation Accuracy: {val_accuracy * 100:.2f}%\")\n"
   ]
  },
  {
   "cell_type": "code",
   "execution_count": 78,
   "metadata": {},
   "outputs": [
    {
     "name": "stdout",
     "output_type": "stream",
     "text": [
      "\u001b[1m18/18\u001b[0m \u001b[32m━━━━━━━━━━━━━━━━━━━━\u001b[0m\u001b[37m\u001b[0m \u001b[1m47s\u001b[0m 3s/step\n"
     ]
    }
   ],
   "source": [
    "# Predict the labels for validation data\n",
    "y_pred = model.predict(validation_generator)\n",
    "y_pred_classes = np.argmax(y_pred, axis=1)"
   ]
  },
  {
   "cell_type": "code",
   "execution_count": 79,
   "metadata": {},
   "outputs": [],
   "source": [
    "# Get the true labels\n",
    "y_true = validation_generator.classes"
   ]
  },
  {
   "cell_type": "code",
   "execution_count": 80,
   "metadata": {},
   "outputs": [],
   "source": [
    "# Get the class labels\n",
    "class_labels = list(validation_generator.class_indices.keys())"
   ]
  },
  {
   "cell_type": "code",
   "execution_count": 81,
   "metadata": {},
   "outputs": [
    {
     "name": "stdout",
     "output_type": "stream",
     "text": [
      "              precision    recall  f1-score   support\n",
      "\n",
      "           0       0.11      0.07      0.08        44\n",
      "           1       0.08      0.09      0.09        78\n",
      "           2       0.22      0.14      0.17       133\n",
      "           3       0.32      0.45      0.37       173\n",
      "           4       0.17      0.16      0.17       136\n",
      "\n",
      "    accuracy                           0.23       564\n",
      "   macro avg       0.18      0.18      0.18       564\n",
      "weighted avg       0.21      0.23      0.21       564\n",
      "\n"
     ]
    }
   ],
   "source": [
    "# Print classification report\n",
    "print(classification_report(y_true, y_pred_classes, target_names=class_labels))"
   ]
  },
  {
   "cell_type": "code",
   "execution_count": 82,
   "metadata": {},
   "outputs": [],
   "source": [
    "from sklearn.metrics import confusion_matrix, classification_report\n",
    "import seaborn as sns\n",
    "import matplotlib.pyplot as plt"
   ]
  },
  {
   "cell_type": "code",
   "execution_count": 83,
   "metadata": {},
   "outputs": [],
   "source": [
    "# Compute confusion matrix\n",
    "cm = confusion_matrix(y_true, y_pred_classes)"
   ]
  },
  {
   "cell_type": "code",
   "execution_count": 84,
   "metadata": {},
   "outputs": [
    {
     "data": {
      "image/png": "[encoded data removed]",
      "text/plain": [
       "<Figure size 1000x800 with 2 Axes>"
      ]
     },
     "metadata": {},
     "output_type": "display_data"
    }
   ],
   "source": [
    "# Plot confusion matrix\n",
    "plt.figure(figsize=(10, 8))\n",
    "sns.heatmap(cm, annot=True, fmt='d', xticklabels=class_labels, yticklabels=class_labels, cmap='Blues')\n",
    "plt.xlabel('Predicted')\n",
    "plt.ylabel('True')\n",
    "plt.title('Confusion Matrix')\n",
    "plt.show()"
   ]
  },
  {
   "cell_type": "code",
   "execution_count": null,
   "metadata": {},
   "outputs": [],
   "source": []
  }
 ],
 "metadata": {
  "kernelspec": {
   "display_name": "Python 3",
   "language": "python",
   "name": "python3"
  },
  "language_info": {
   "codemirror_mode": {
    "name": "ipython",
    "version": 3
   },
   "file_extension": ".py",
   "mimetype": "text/x-python",
   "name": "python",
   "nbconvert_exporter": "python",
   "pygments_lexer": "ipython3",
   "version": "3.12.3"
  }
 },
 "nbformat": 4,
 "nbformat_minor": 2
}
